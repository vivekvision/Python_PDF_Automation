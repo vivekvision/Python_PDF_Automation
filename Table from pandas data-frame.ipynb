{
 "cells": [
  {
   "cell_type": "code",
   "execution_count": 2,
   "id": "22bd3371",
   "metadata": {},
   "outputs": [],
   "source": [
    "from reportlab.lib.pagesizes import letter\n",
    "from reportlab.lib.units import inch\n",
    "from reportlab.platypus import SimpleDocTemplate, Table, TableStyle\n",
    "import pandas as pd\n",
    "\n",
    "# Define the data as a pandas DataFrame\n",
    "data = pd.DataFrame({'Name': ['Alice', 'Bob', 'Charlie'],\n",
    "                     'Age': [25, 30, 35],\n",
    "                     'City': ['New York', 'London', 'Paris']})\n",
    "\n",
    "# Convert the DataFrame to a list of lists\n",
    "data_list = [list(data.columns)]\n",
    "for row in data.itertuples(index=False):\n",
    "    data_list.append(list(row))\n",
    "\n",
    "# Create a new PDF file\n",
    "pdf = SimpleDocTemplate('report.pdf', pagesize=letter)\n",
    "\n",
    "# Create the table\n",
    "pdf_table = Table(data_list)\n",
    "\n",
    "# Add some styles to the table\n",
    "pdf_table.setStyle(TableStyle([('BACKGROUND', (0, 0), (-1, 0), 'gray'),\n",
    "                               ('TEXTCOLOR', (0, 0), (-1, 0), 'white'),\n",
    "                               ('ALIGN', (0, 0), (-1, 0), 'CENTER'),\n",
    "                               ('FONTNAME', (0, 0), (-1, 0), 'Helvetica-Bold'),\n",
    "                               ('FONTSIZE', (0, 0), (-1, 0), 14),\n",
    "                               ('BOTTOMPADDING', (0, 0), (-1, 0), 12),\n",
    "                               ('BACKGROUND', (0, 1), (-1, -1), 'white'),\n",
    "                               ('TEXTCOLOR', (0, 1), (-1, -1), 'black'),\n",
    "                               ('ALIGN', (0, 1), (-1, -1), 'CENTER'),\n",
    "                               ('FONTNAME', (0, 1), (-1, -1), 'Helvetica'),\n",
    "                               ('FONTSIZE', (0, 1), (-1, -1), 12),\n",
    "                               ('BOTTOMPADDING', (0, 1), (-1, -1), 6),\n",
    "                               ('GRID', (0, 0), (-1, -1), 0.5, 'gray')]))\n",
    "\n",
    "# Add the table to the PDF document\n",
    "pdf.build([pdf_table])\n"
   ]
  },
  {
   "cell_type": "code",
   "execution_count": null,
   "id": "4fc47c60",
   "metadata": {},
   "outputs": [],
   "source": []
  }
 ],
 "metadata": {
  "kernelspec": {
   "display_name": "Python 3 (ipykernel)",
   "language": "python",
   "name": "python3"
  },
  "language_info": {
   "codemirror_mode": {
    "name": "ipython",
    "version": 3
   },
   "file_extension": ".py",
   "mimetype": "text/x-python",
   "name": "python",
   "nbconvert_exporter": "python",
   "pygments_lexer": "ipython3",
   "version": "3.9.7"
  }
 },
 "nbformat": 4,
 "nbformat_minor": 5
}
