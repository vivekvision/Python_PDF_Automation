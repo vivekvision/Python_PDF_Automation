{
 "cells": [
  {
   "cell_type": "code",
   "execution_count": 2,
   "id": "785e1653",
   "metadata": {},
   "outputs": [],
   "source": [
    "from reportlab.pdfgen import canvas\n",
    "\n",
    "# Create a new PDF file\n",
    "pdf = canvas.Canvas(\"example.pdf\")\n",
    "\n",
    "# Add some text to the PDF\n",
    "pdf.drawString(100, 750, \"Hello World!\")\n",
    "\n",
    "# Save the PDF\n",
    "pdf.save()\n"
   ]
  },
  {
   "cell_type": "code",
   "execution_count": null,
   "id": "53493bb8",
   "metadata": {},
   "outputs": [],
   "source": []
  }
 ],
 "metadata": {
  "kernelspec": {
   "display_name": "Python 3 (ipykernel)",
   "language": "python",
   "name": "python3"
  },
  "language_info": {
   "codemirror_mode": {
    "name": "ipython",
    "version": 3
   },
   "file_extension": ".py",
   "mimetype": "text/x-python",
   "name": "python",
   "nbconvert_exporter": "python",
   "pygments_lexer": "ipython3",
   "version": "3.9.7"
  }
 },
 "nbformat": 4,
 "nbformat_minor": 5
}
